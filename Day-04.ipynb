{
 "cells": [
  {
   "cell_type": "code",
   "execution_count": 15,
   "metadata": {},
   "outputs": [],
   "source": [
    "# Function \n",
    "a = 34\n",
    "b = 34.5\n",
    "c = 34+5j\n",
    "d = 'hello'\n",
    "e = [3,4,5]\n",
    "f = (3,4,5)\n",
    "g = {3:[4,5]}\n",
    "h = {3,4,5}"
   ]
  },
  {
   "cell_type": "code",
   "execution_count": 14,
   "metadata": {},
   "outputs": [
    {
     "data": {
      "text/plain": [
       "2"
      ]
     },
     "execution_count": 14,
     "metadata": {},
     "output_type": "execute_result"
    }
   ],
   "source": [
    "# d.split()\n",
    "# d.split('e')\n",
    "# '             hi                '.strip()\n",
    "# d.strip('oh')\n",
    "# d.strip('ohl')\n",
    "# 'STAR'.join('wars')\n",
    "# '-'.join('wars')\n",
    "# '#'.join('Hi this is a new string'.split())\n",
    "# 'hi this is a new string'.replace(' ','#')\n",
    "# d.count('l')\n"
   ]
  },
  {
   "cell_type": "code",
   "execution_count": 28,
   "metadata": {},
   "outputs": [
    {
     "data": {
      "text/plain": [
       "'Ek aisa data jo 20 to 30 hai lein 20 hi kaafi hai'"
      ]
     },
     "execution_count": 28,
     "metadata": {},
     "output_type": "execute_result"
    }
   ],
   "source": [
    "# String Formatting \n",
    "\n",
    "x=20\n",
    "y=30\n",
    "# z='Ek aise data jo 20 to 30 hai'\n",
    "\n",
    "\n",
    "\n",
    " \n",
    "# --------(Format Specifier)-----------------\n",
    "\n",
    "# z='Ek aisa data jo %d to %d hai'%(x,y)  #Its not recommended  to use \n",
    "\n",
    "\n",
    "\n",
    "\n",
    "\n",
    "# ------------Using format function---------------\n",
    "\n",
    "\n",
    "# z = 'Ek aisa data jo {} to {} hai'\n",
    "# z.format(x,y)\n",
    "\n",
    "# z = 'Ek aisa data jo {} to {} hai'.format(x,y) --> we can do this in one line also\n",
    "\n",
    "# Ek aisa data jo 20 to 30 hai lein 20 hi kaafi hai --> here i want to try 2 times \n",
    "# z1 ='Ek aisa data jo %d to %d hai lein %d hi kaafi hai'\n",
    "# z1 = z1.%(x,y,x)\n",
    "\n",
    "# z1 = 'Ek aisa data jo {} to {} hai lein {} hi kaafi hai '\n",
    "# z1.format(x,y,x)\n",
    "\n",
    "# z1 = 'Ek aisa data jo {0} to {1} hai lein {0} hi kaafi hai '\n",
    "# z1.format(x,y)\n",
    "\n",
    "\n",
    "\n",
    "\n",
    "## ------Using f-string ----------------\n",
    "\n",
    "# f'anything' --> it makes a special type of data which is known as f-string \n",
    "# --> Disagvantages of this is --> Yaha pe jab hum string bna rhe hai usi time pass bhi kar rhe hai \n",
    "zf = f'Ek aisa data jo {x} to {y} hai lein {x} hi kaafi hai'\n",
    "zf\n"
   ]
  },
  {
   "cell_type": "code",
   "execution_count": null,
   "metadata": {},
   "outputs": [],
   "source": [
    "# 1. No input and no output args\n",
    "# 2. Input arg but no output args\n",
    "# 3. No Input but Output args are there \n",
    "# 4. Both are there \n",
    "\n",
    "\n",
    "\n",
    "# a. Kuch function In-Place type hote hai --> (Self update)\n",
    "# b. Kuch function Non in-Place"
   ]
  },
  {
   "cell_type": "code",
   "execution_count": 52,
   "metadata": {},
   "outputs": [
    {
     "data": {
      "text/plain": [
       "[1000, 5, 4, 3]"
      ]
     },
     "execution_count": 52,
     "metadata": {},
     "output_type": "execute_result"
    }
   ],
   "source": [
    "# Function of List \n",
    "\n",
    "# e.append(111)\n",
    "# e.append('somedata')\n",
    "\n",
    "# e.count(4)\n",
    "\n",
    "# e.insert(2,1000)\n",
    "\n",
    "# e.remove(1000)\n",
    "\n",
    "\n",
    "# help(e.sort)\n",
    "\n",
    "# e.sort(reverse=True)  #Bydefault it sort in accending order\n",
    "# e\n",
    "\n",
    "\n"
   ]
  },
  {
   "cell_type": "code",
   "execution_count": 5,
   "metadata": {},
   "outputs": [],
   "source": [
    "e1 = ['hi', 'wow', 'good', 'ehy', 'yes', 'awesome']"
   ]
  },
  {
   "cell_type": "code",
   "execution_count": 7,
   "metadata": {},
   "outputs": [
    {
     "data": {
      "text/plain": [
       "6"
      ]
     },
     "execution_count": 7,
     "metadata": {},
     "output_type": "execute_result"
    }
   ],
   "source": [
    "len(e1)"
   ]
  },
  {
   "cell_type": "code",
   "execution_count": 11,
   "metadata": {},
   "outputs": [
    {
     "data": {
      "text/plain": [
       "['awesome', 'good', 'wow', 'ehy', 'yes', 'hi']"
      ]
     },
     "execution_count": 11,
     "metadata": {},
     "output_type": "execute_result"
    }
   ],
   "source": [
    "# e1.sort(key=len)\n",
    "# e1\n",
    "e1.sort(key=len, reverse=True)\n",
    "e1"
   ]
  },
  {
   "cell_type": "code",
   "execution_count": 13,
   "metadata": {},
   "outputs": [
    {
     "ename": "NameError",
     "evalue": "name 'f' is not defined",
     "output_type": "error",
     "traceback": [
      "\u001b[1;31m---------------------------------------------------------------------------\u001b[0m",
      "\u001b[1;31mNameError\u001b[0m                                 Traceback (most recent call last)",
      "Cell \u001b[1;32mIn[13], line 1\u001b[0m\n\u001b[1;32m----> 1\u001b[0m f1 \u001b[39m=\u001b[39m \u001b[39mlist\u001b[39m(f)\n",
      "\u001b[1;31mNameError\u001b[0m: name 'f' is not defined"
     ]
    }
   ],
   "source": [
    "f1 = list(f)"
   ]
  },
  {
   "cell_type": "code",
   "execution_count": 17,
   "metadata": {},
   "outputs": [
    {
     "data": {
      "text/plain": [
       "4"
      ]
     },
     "execution_count": 17,
     "metadata": {},
     "output_type": "execute_result"
    }
   ],
   "source": [
    "k = e.pop()\n",
    "k"
   ]
  },
  {
   "cell_type": "code",
   "execution_count": 28,
   "metadata": {},
   "outputs": [
    {
     "data": {
      "text/plain": [
       "44"
      ]
     },
     "execution_count": 28,
     "metadata": {},
     "output_type": "execute_result"
    }
   ],
   "source": [
    "# g\n",
    "# g['a'] = 44\n",
    "\n",
    "# g\n",
    "# g.keys()\n",
    "# type(g.keys()) # dict_keys \n",
    "# g.keys()[0] # TypeError: 'dict_keys' object is not subscriptable\n",
    "# list(g.keys())[0]\n",
    "\n",
    "# g.get('a')\n",
    "# g.get('a', 'Oh No') #--> if the value of a is present than print ow 'Oh No'"
   ]
  },
  {
   "cell_type": "code",
   "execution_count": 29,
   "metadata": {},
   "outputs": [
    {
     "data": {
      "text/plain": [
       "[3]"
      ]
     },
     "execution_count": 29,
     "metadata": {},
     "output_type": "execute_result"
    }
   ],
   "source": [
    "e"
   ]
  },
  {
   "cell_type": "code",
   "execution_count": 31,
   "metadata": {},
   "outputs": [
    {
     "data": {
      "text/plain": [
       "[3]"
      ]
     },
     "execution_count": 31,
     "metadata": {},
     "output_type": "execute_result"
    }
   ],
   "source": [
    "e3 = e\n",
    "e3"
   ]
  },
  {
   "cell_type": "code",
   "execution_count": 32,
   "metadata": {},
   "outputs": [
    {
     "data": {
      "text/plain": [
       "[3, 65]"
      ]
     },
     "execution_count": 32,
     "metadata": {},
     "output_type": "execute_result"
    }
   ],
   "source": [
    "e3.append(65)\n",
    "e3"
   ]
  },
  {
   "cell_type": "code",
   "execution_count": 33,
   "metadata": {},
   "outputs": [
    {
     "data": {
      "text/plain": [
       "[3, 65]"
      ]
     },
     "execution_count": 33,
     "metadata": {},
     "output_type": "execute_result"
    }
   ],
   "source": [
    "e  # It bcz python always doing referenceing that why its behave like judwa ek main change karunga tih dusre main bhi hoga\n"
   ]
  },
  {
   "cell_type": "code",
   "execution_count": 34,
   "metadata": {},
   "outputs": [
    {
     "name": "stdout",
     "output_type": "stream",
     "text": [
      "Help on built-in function copy:\n",
      "\n",
      "copy() method of builtins.list instance\n",
      "    Return a shallow copy of the list.\n",
      "\n"
     ]
    }
   ],
   "source": [
    "help(e.copy)"
   ]
  },
  {
   "cell_type": "code",
   "execution_count": 36,
   "metadata": {},
   "outputs": [
    {
     "data": {
      "text/plain": [
       "[3, 65, 80]"
      ]
     },
     "execution_count": 36,
     "metadata": {},
     "output_type": "execute_result"
    }
   ],
   "source": [
    "# Deep copy vs Shallow copy --> Must read it its a very important \n",
    "\n",
    "\n",
    "\n",
    "\n",
    "\n",
    "# When you do shallow copy then its only change in e4 not in other \n",
    "e4 = e.copy()\n",
    "e4.append(80)\n",
    "e4"
   ]
  },
  {
   "cell_type": "code",
   "execution_count": 37,
   "metadata": {},
   "outputs": [
    {
     "data": {
      "text/plain": [
       "[3, 65]"
      ]
     },
     "execution_count": 37,
     "metadata": {},
     "output_type": "execute_result"
    }
   ],
   "source": [
    "e3"
   ]
  },
  {
   "cell_type": "code",
   "execution_count": 38,
   "metadata": {},
   "outputs": [
    {
     "data": {
      "text/plain": [
       "[3, 65]"
      ]
     },
     "execution_count": 38,
     "metadata": {},
     "output_type": "execute_result"
    }
   ],
   "source": [
    "e"
   ]
  },
  {
   "cell_type": "code",
   "execution_count": 39,
   "metadata": {},
   "outputs": [
    {
     "data": {
      "text/plain": [
       "{3, 4, 5}"
      ]
     },
     "execution_count": 39,
     "metadata": {},
     "output_type": "execute_result"
    }
   ],
   "source": [
    "h"
   ]
  },
  {
   "cell_type": "code",
   "execution_count": 43,
   "metadata": {},
   "outputs": [
    {
     "data": {
      "text/plain": [
       "{2, 3, 4, 5, 7, 65, 7754}"
      ]
     },
     "execution_count": 43,
     "metadata": {},
     "output_type": "execute_result"
    }
   ],
   "source": [
    "# h[0] # in set we can not do indexing \n",
    "\n",
    "p = [3,2,4,2,4,2,5,7,5,65,7754,3,3]\n",
    "p1 = set(p) # its bydefault give data in sorted order \n",
    "p1"
   ]
  },
  {
   "cell_type": "code",
   "execution_count": 45,
   "metadata": {},
   "outputs": [
    {
     "data": {
      "text/plain": [
       "{2, 3, 4, 5, 7, 65, 421, 7754}"
      ]
     },
     "execution_count": 45,
     "metadata": {},
     "output_type": "execute_result"
    }
   ],
   "source": [
    "p1.add(421)\n",
    "p1"
   ]
  },
  {
   "cell_type": "code",
   "execution_count": 46,
   "metadata": {},
   "outputs": [],
   "source": [
    "# Actually Programming \n",
    "\n",
    "# Logics \n",
    "#1. Conditions \n",
    "#2. Loops\n",
    "#3. Errors\n",
    "#4. Functions \n",
    "#5. Classes\n",
    "#6. Libraary"
   ]
  },
  {
   "cell_type": "code",
   "execution_count": 49,
   "metadata": {},
   "outputs": [
    {
     "name": "stdout",
     "output_type": "stream",
     "text": [
      "Or ye toh bada hai\n",
      "Ye bhi thik hai\n",
      "ye ho gya\n",
      "sab khatam\n"
     ]
    }
   ],
   "source": [
    "'''\n",
    "int a = 10;\n",
    "if(a>5){\n",
    "        printf('its greater');\n",
    "        if(a<100){\n",
    "            printf('Ye bhi thik hai');\n",
    "        }\n",
    "}\n",
    "else if(a<-20){\n",
    "        printf('Ye bahut chota hai');\n",
    "}\n",
    "else{\n",
    "    printf('Ye thik hai');\n",
    "}\n",
    "'''\n",
    "\n",
    "# Suites in python \n",
    "#######################\n",
    "# statement:\n",
    "#     content\n",
    "#     content\n",
    "# statement2:\n",
    "#     content\n",
    "#     stmt3:\n",
    "#         morecontent\n",
    "\n",
    "a = 10\n",
    "if(a>5):\n",
    "    print('Or ye toh bada hai')\n",
    "    if(a<100):\n",
    "        print('Ye bhi thik hai')\n",
    "    print('ye ho gya')\n",
    "elif(a<-20):\n",
    "    print(\"Ye bahut chota hai\")\n",
    "elif(a==3):\n",
    "    print(\"Ye wala three hai\")\n",
    "else:\n",
    "    print('ye bhi theek hai')\n",
    "print('sab khatam')"
   ]
  },
  {
   "cell_type": "code",
   "execution_count": 1,
   "metadata": {},
   "outputs": [],
   "source": [
    "# Conditional Statement \n",
    "    # if-elif-else\n",
    "\n",
    "# Looping\n",
    "    # while-else\n",
    "    # for-else\n",
    "    # continue/break\n",
    "\n",
    "# Error Handling \n",
    "    # try-except-else-finally\n",
    "\n",
    "# User Defined Functions\n",
    "    # def\n",
    "\n",
    "# Classes\n",
    "    # class"
   ]
  },
  {
   "cell_type": "code",
   "execution_count": 6,
   "metadata": {},
   "outputs": [
    {
     "name": "stdout",
     "output_type": "stream",
     "text": [
      "hello\n",
      "hello\n",
      "hello\n",
      "hello\n",
      "hello\n",
      "hello\n",
      "hello\n"
     ]
    }
   ],
   "source": [
    "a = 20 \n",
    "while a>0:\n",
    "    print('hello')\n",
    "    a-=3"
   ]
  },
  {
   "cell_type": "code",
   "execution_count": 7,
   "metadata": {},
   "outputs": [
    {
     "name": "stdout",
     "output_type": "stream",
     "text": [
      "hello\n",
      "One More\n",
      "hello\n",
      "One More\n",
      "hello\n"
     ]
    }
   ],
   "source": [
    "a = 20 \n",
    "while a>0:\n",
    "    print('hello')\n",
    "    a-=3\n",
    "    if(a == 11):\n",
    "        break\n",
    "    if(a < 10):\n",
    "        continue\n",
    "    print('One More')"
   ]
  },
  {
   "cell_type": "code",
   "execution_count": 8,
   "metadata": {},
   "outputs": [
    {
     "name": "stdout",
     "output_type": "stream",
     "text": [
      "hello 20\n",
      "One More\n",
      "hello 17\n",
      "One More\n",
      "hello 14\n",
      "One More\n",
      "hello 11\n",
      "hello 8\n",
      "hello 5\n",
      "hello 2\n",
      "Accha ab pta chala\n"
     ]
    }
   ],
   "source": [
    "a = 20 \n",
    "while a>0:\n",
    "    print('hello',a)\n",
    "    a-=3\n",
    "    if(a == 12):\n",
    "        break\n",
    "    if(a < 10):\n",
    "        continue\n",
    "    print('One More')\n",
    "else:\n",
    "    print('Accha ab pta chala')"
   ]
  },
  {
   "cell_type": "code",
   "execution_count": 10,
   "metadata": {},
   "outputs": [
    {
     "name": "stdout",
     "output_type": "stream",
     "text": [
      "h\n",
      "e\n",
      "l\n",
      "l\n",
      "o\n"
     ]
    }
   ],
   "source": [
    "# for-else\n",
    "for i in 'hello':\n",
    "    print(i)"
   ]
  },
  {
   "cell_type": "code",
   "execution_count": 11,
   "metadata": {},
   "outputs": [
    {
     "name": "stdout",
     "output_type": "stream",
     "text": [
      "*\n",
      "**\n",
      "***\n",
      "****\n",
      "*****\n",
      "******\n",
      "*******\n",
      "********\n",
      "*********\n",
      "**********\n"
     ]
    }
   ],
   "source": [
    "for i in range(1,11):\n",
    "    print(i * '*')"
   ]
  },
  {
   "cell_type": "code",
   "execution_count": null,
   "metadata": {},
   "outputs": [],
   "source": []
  }
 ],
 "metadata": {
  "kernelspec": {
   "display_name": "Python 3",
   "language": "python",
   "name": "python3"
  },
  "language_info": {
   "codemirror_mode": {
    "name": "ipython",
    "version": 3
   },
   "file_extension": ".py",
   "mimetype": "text/x-python",
   "name": "python",
   "nbconvert_exporter": "python",
   "pygments_lexer": "ipython3",
   "version": "3.10.5"
  },
  "orig_nbformat": 4
 },
 "nbformat": 4,
 "nbformat_minor": 2
}
